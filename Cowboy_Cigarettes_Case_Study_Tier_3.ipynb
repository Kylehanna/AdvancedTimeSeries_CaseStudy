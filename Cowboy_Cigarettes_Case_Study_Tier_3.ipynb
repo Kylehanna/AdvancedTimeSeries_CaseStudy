{
  "cells": [
    {
      "cell_type": "markdown",
      "metadata": {
        "id": "view-in-github",
        "colab_type": "text"
      },
      "source": [
        "<a href=\"https://colab.research.google.com/github/Kylehanna/AdvancedTimeSeries_CaseStudy/blob/main/Cowboy_Cigarettes_Case_Study_Tier_3.ipynb\" target=\"_parent\"><img src=\"https://colab.research.google.com/assets/colab-badge.svg\" alt=\"Open In Colab\"/></a>"
      ]
    },
    {
      "cell_type": "markdown",
      "metadata": {
        "id": "kNWt1YUy_714"
      },
      "source": [
        "# Springboard Time Series - 'Cowboy Cigarettes' Case Study - Tier 3"
      ]
    },
    {
      "cell_type": "code",
      "source": [
        "from google.colab import drive\n",
        "drive.mount('/content/drive')"
      ],
      "metadata": {
        "colab": {
          "base_uri": "https://localhost:8080/"
        },
        "id": "8zYY2mSJ_-ik",
        "outputId": "2b8ba821-45de-4e81-fa65-f3178b6e1dbe"
      },
      "execution_count": null,
      "outputs": [
        {
          "output_type": "stream",
          "name": "stdout",
          "text": [
            "Mounted at /content/drive\n"
          ]
        }
      ]
    },
    {
      "cell_type": "markdown",
      "metadata": {
        "id": "ksNb0E4y_716"
      },
      "source": [
        "## Brief\n",
        "\n",
        "You're working in the US federal government as a data scientist in the Health and Environment department. You've been tasked with determining whether sales for the oldest and most powerful producers of cigarettes in the country are increasing or declining. \n",
        "\n",
        "**Cowboy Cigarettes (TM, *est.* 1890)** is the US's longest-running cigarette manufacturer. Like many cigarette companies, however, they haven't always been that public about their sales and marketing data. The available post-war historical data runs for only 11 years after they resumed production in 1949; stopping in 1960 before resuming again in 1970. Your job is to use the 1949-1960 data to predict whether the manufacturer's cigarette sales actually increased, decreased, or stayed the same. You need to make a probable reconstruction of the sales record of the manufacturer - predicting the future, from the perspective of the past - to contribute to a full report on US public health in relation to major cigarette companies. \n",
        "\n",
        "The results of your analysis will be used as part of a major report relating public health and local economics, and will be combined with other studies executed by your colleagues to provide important government advice.  \n",
        "\n",
        "-------------------------------\n",
        "As ever, this notebook is **tiered**, meaning you can elect that tier that is right for your confidence and skill level. There are 3 tiers, with tier 1 being the easiest and tier 3 being the hardest.  \n",
        "\n",
        "**1. Sourcing and loading** \n",
        "- Load relevant libraries \n",
        "- Load the data\n",
        "- Explore the data\n",
        "\n",
        " \n",
        "**2. Cleaning, transforming and visualizing**\n",
        "- Dropping unwanted columns\n",
        "- Nomenclature\n",
        "- Type conversions\n",
        "- Making a predictor variable `y` \n",
        "- Getting summary statistics for `y`\n",
        "- Plotting `y`\n",
        "  \n",
        "  \n",
        "**3. Modelling** \n",
        "- Decomposition\n",
        "    - Trend\n",
        "    - Seasonality\n",
        "    - Noise\n",
        "- Testing for stationarity with KPSS\n",
        "- Making the data stationary\n",
        "- The ARIMA Model\n",
        "    - Make a function to find the MSE of a single ARIMA model\n",
        "    - Make a function to evaluate the different ARIMA models with different p, d, and q values\n",
        "- Visualize the results\n",
        "- Application: Forecasting\n",
        "\n",
        "**4. Evaluating and concluding** \n",
        "- What is our conclusion?\n",
        "- Next steps\n",
        "    "
      ]
    },
    {
      "cell_type": "markdown",
      "metadata": {
        "id": "tL6bJTUU_717"
      },
      "source": [
        "## 0. Preliminaries \n",
        "\n",
        "Time series data is just any data displaying how a single variable changes over time. It comes as a collection of metrics typically taken at regular intervals. Common examples of time series data include weekly sales data and daily stock prices. You can also easily acquire time series data from [Google Trends](https://trends.google.com/trends/?geo=US), which shows you how popular certain search terms are, measured in number of Google searches. "
      ]
    },
    {
      "cell_type": "markdown",
      "metadata": {
        "id": "nb8gZf-i_717"
      },
      "source": [
        "## 1. Sourcing and Loading\n",
        "\n",
        "### 1a. Load relevant libraries "
      ]
    },
    {
      "cell_type": "code",
      "execution_count": null,
      "metadata": {
        "id": "K9bFjR_x_717"
      },
      "outputs": [],
      "source": [
        "import pandas as pd \n",
        "import numpy as np \n",
        "import matplotlib.pyplot as plt \n",
        "import seaborn as sns "
      ]
    },
    {
      "cell_type": "markdown",
      "metadata": {
        "id": "HH-6Swp2_718"
      },
      "source": [
        "### 1b. Load the data\n",
        "Call the variable `cigData`. "
      ]
    },
    {
      "cell_type": "code",
      "execution_count": null,
      "metadata": {
        "id": "R6JI0q6A_718"
      },
      "outputs": [],
      "source": [
        "datapath = ('/content/drive/MyDrive/GROUND GAME AI/Unit 21 - Advanced Time Series Modeling/Cowboys&CigrettesCaseStudy/CowboyCigsData.csv')\n",
        "\n",
        "cigData = pd.read_csv(datapath)"
      ]
    },
    {
      "cell_type": "markdown",
      "metadata": {
        "id": "EfQ0rqeg_718"
      },
      "source": [
        "### 1c. Explore the data\n",
        "We now need to check whether the data conduces to a time series style analysis."
      ]
    },
    {
      "cell_type": "code",
      "execution_count": null,
      "metadata": {
        "scrolled": true,
        "colab": {
          "base_uri": "https://localhost:8080/",
          "height": 228
        },
        "id": "RjgIAj2E_719",
        "outputId": "5b0d7468-e9f4-443a-d545-12fd0216aa14"
      },
      "outputs": [
        {
          "output_type": "execute_result",
          "data": {
            "text/html": [
              "\n",
              "  <div id=\"df-d8d7aaaf-2616-4fcb-a649-8458bc1145de\">\n",
              "    <div class=\"colab-df-container\">\n",
              "      <div>\n",
              "<style scoped>\n",
              "    .dataframe tbody tr th:only-of-type {\n",
              "        vertical-align: middle;\n",
              "    }\n",
              "\n",
              "    .dataframe tbody tr th {\n",
              "        vertical-align: top;\n",
              "    }\n",
              "\n",
              "    .dataframe thead th {\n",
              "        text-align: right;\n",
              "    }\n",
              "</style>\n",
              "<table border=\"1\" class=\"dataframe\">\n",
              "  <thead>\n",
              "    <tr style=\"text-align: right;\">\n",
              "      <th></th>\n",
              "      <th>Unnamed: 0</th>\n",
              "      <th>Time</th>\n",
              "      <th>#CigSales</th>\n",
              "    </tr>\n",
              "  </thead>\n",
              "  <tbody>\n",
              "    <tr>\n",
              "      <th>0</th>\n",
              "      <td>0</td>\n",
              "      <td>1949-01</td>\n",
              "      <td>1000112</td>\n",
              "    </tr>\n",
              "    <tr>\n",
              "      <th>1</th>\n",
              "      <td>1</td>\n",
              "      <td>1949-02</td>\n",
              "      <td>1000118</td>\n",
              "    </tr>\n",
              "    <tr>\n",
              "      <th>2</th>\n",
              "      <td>2</td>\n",
              "      <td>1949-03</td>\n",
              "      <td>1000132</td>\n",
              "    </tr>\n",
              "    <tr>\n",
              "      <th>3</th>\n",
              "      <td>3</td>\n",
              "      <td>1949-04</td>\n",
              "      <td>1000129</td>\n",
              "    </tr>\n",
              "    <tr>\n",
              "      <th>4</th>\n",
              "      <td>4</td>\n",
              "      <td>1949-05</td>\n",
              "      <td>1000121</td>\n",
              "    </tr>\n",
              "  </tbody>\n",
              "</table>\n",
              "</div>\n",
              "      <button class=\"colab-df-convert\" onclick=\"convertToInteractive('df-d8d7aaaf-2616-4fcb-a649-8458bc1145de')\"\n",
              "              title=\"Convert this dataframe to an interactive table.\"\n",
              "              style=\"display:none;\">\n",
              "        \n",
              "  <svg xmlns=\"http://www.w3.org/2000/svg\" height=\"24px\"viewBox=\"0 0 24 24\"\n",
              "       width=\"24px\">\n",
              "    <path d=\"M0 0h24v24H0V0z\" fill=\"none\"/>\n",
              "    <path d=\"M18.56 5.44l.94 2.06.94-2.06 2.06-.94-2.06-.94-.94-2.06-.94 2.06-2.06.94zm-11 1L8.5 8.5l.94-2.06 2.06-.94-2.06-.94L8.5 2.5l-.94 2.06-2.06.94zm10 10l.94 2.06.94-2.06 2.06-.94-2.06-.94-.94-2.06-.94 2.06-2.06.94z\"/><path d=\"M17.41 7.96l-1.37-1.37c-.4-.4-.92-.59-1.43-.59-.52 0-1.04.2-1.43.59L10.3 9.45l-7.72 7.72c-.78.78-.78 2.05 0 2.83L4 21.41c.39.39.9.59 1.41.59.51 0 1.02-.2 1.41-.59l7.78-7.78 2.81-2.81c.8-.78.8-2.07 0-2.86zM5.41 20L4 18.59l7.72-7.72 1.47 1.35L5.41 20z\"/>\n",
              "  </svg>\n",
              "      </button>\n",
              "      \n",
              "  <style>\n",
              "    .colab-df-container {\n",
              "      display:flex;\n",
              "      flex-wrap:wrap;\n",
              "      gap: 12px;\n",
              "    }\n",
              "\n",
              "    .colab-df-convert {\n",
              "      background-color: #E8F0FE;\n",
              "      border: none;\n",
              "      border-radius: 50%;\n",
              "      cursor: pointer;\n",
              "      display: none;\n",
              "      fill: #1967D2;\n",
              "      height: 32px;\n",
              "      padding: 0 0 0 0;\n",
              "      width: 32px;\n",
              "    }\n",
              "\n",
              "    .colab-df-convert:hover {\n",
              "      background-color: #E2EBFA;\n",
              "      box-shadow: 0px 1px 2px rgba(60, 64, 67, 0.3), 0px 1px 3px 1px rgba(60, 64, 67, 0.15);\n",
              "      fill: #174EA6;\n",
              "    }\n",
              "\n",
              "    [theme=dark] .colab-df-convert {\n",
              "      background-color: #3B4455;\n",
              "      fill: #D2E3FC;\n",
              "    }\n",
              "\n",
              "    [theme=dark] .colab-df-convert:hover {\n",
              "      background-color: #434B5C;\n",
              "      box-shadow: 0px 1px 3px 1px rgba(0, 0, 0, 0.15);\n",
              "      filter: drop-shadow(0px 1px 2px rgba(0, 0, 0, 0.3));\n",
              "      fill: #FFFFFF;\n",
              "    }\n",
              "  </style>\n",
              "\n",
              "      <script>\n",
              "        const buttonEl =\n",
              "          document.querySelector('#df-d8d7aaaf-2616-4fcb-a649-8458bc1145de button.colab-df-convert');\n",
              "        buttonEl.style.display =\n",
              "          google.colab.kernel.accessAllowed ? 'block' : 'none';\n",
              "\n",
              "        async function convertToInteractive(key) {\n",
              "          const element = document.querySelector('#df-d8d7aaaf-2616-4fcb-a649-8458bc1145de');\n",
              "          const dataTable =\n",
              "            await google.colab.kernel.invokeFunction('convertToInteractive',\n",
              "                                                     [key], {});\n",
              "          if (!dataTable) return;\n",
              "\n",
              "          const docLinkHtml = 'Like what you see? Visit the ' +\n",
              "            '<a target=\"_blank\" href=https://colab.research.google.com/notebooks/data_table.ipynb>data table notebook</a>'\n",
              "            + ' to learn more about interactive tables.';\n",
              "          element.innerHTML = '';\n",
              "          dataTable['output_type'] = 'display_data';\n",
              "          await google.colab.output.renderOutput(dataTable, element);\n",
              "          const docLink = document.createElement('div');\n",
              "          docLink.innerHTML = docLinkHtml;\n",
              "          element.appendChild(docLink);\n",
              "        }\n",
              "      </script>\n",
              "    </div>\n",
              "  </div>\n",
              "  "
            ],
            "text/plain": [
              "   Unnamed: 0     Time  #CigSales\n",
              "0           0  1949-01    1000112\n",
              "1           1  1949-02    1000118\n",
              "2           2  1949-03    1000132\n",
              "3           3  1949-04    1000129\n",
              "4           4  1949-05    1000121"
            ]
          },
          "metadata": {},
          "execution_count": 4
        }
      ],
      "source": [
        "cigData.head()"
      ]
    },
    {
      "cell_type": "markdown",
      "metadata": {
        "id": "q4zG0Em9_719"
      },
      "source": [
        "Over a million cigarettes sold in the month of January 1949. This certainly is a popular cigarette brand. "
      ]
    },
    {
      "cell_type": "markdown",
      "metadata": {
        "id": "n3CyFc-x_719"
      },
      "source": [
        "Check out the columns feature of the data. How many columns are there? "
      ]
    },
    {
      "cell_type": "code",
      "execution_count": null,
      "metadata": {
        "id": "aTd0iTtT_719",
        "colab": {
          "base_uri": "https://localhost:8080/"
        },
        "outputId": "abbeb3aa-f53e-4bc7-bd45-e58b1cbcb528"
      },
      "outputs": [
        {
          "output_type": "execute_result",
          "data": {
            "text/plain": [
              "Unnamed: 0    1\n",
              "Time          1\n",
              "#CigSales     1\n",
              "dtype: int64"
            ]
          },
          "metadata": {},
          "execution_count": 5
        }
      ],
      "source": [
        "cigData.columns.value_counts()"
      ]
    },
    {
      "cell_type": "markdown",
      "metadata": {
        "id": "4H782tsf_719"
      },
      "source": [
        "Let's check out the data types of our columns."
      ]
    },
    {
      "cell_type": "code",
      "execution_count": null,
      "metadata": {
        "scrolled": false,
        "id": "vNofTIT6_71-",
        "colab": {
          "base_uri": "https://localhost:8080/"
        },
        "outputId": "8af212e6-3bb6-4abf-b8c7-b59e1b014ace"
      },
      "outputs": [
        {
          "output_type": "execute_result",
          "data": {
            "text/plain": [
              "Unnamed: 0     int64\n",
              "Time          object\n",
              "#CigSales      int64\n",
              "dtype: object"
            ]
          },
          "metadata": {},
          "execution_count": 6
        }
      ],
      "source": [
        "cigData.dtypes"
      ]
    },
    {
      "cell_type": "markdown",
      "metadata": {
        "id": "mKwfTtKE_71-"
      },
      "source": [
        "Check whether there are any null values. "
      ]
    },
    {
      "cell_type": "code",
      "execution_count": null,
      "metadata": {
        "id": "MfguR0ze_71-",
        "colab": {
          "base_uri": "https://localhost:8080/"
        },
        "outputId": "8f16c525-6531-45a3-adf5-8a74bc397f52"
      },
      "outputs": [
        {
          "output_type": "execute_result",
          "data": {
            "text/plain": [
              "Unnamed: 0    0\n",
              "Time          0\n",
              "#CigSales     0\n",
              "dtype: int64"
            ]
          },
          "metadata": {},
          "execution_count": 7
        }
      ],
      "source": [
        "cigData.isna().sum()"
      ]
    },
    {
      "cell_type": "markdown",
      "metadata": {
        "id": "7XBJV6t__71_"
      },
      "source": [
        "## 2. Cleaning, transforming and visualizing"
      ]
    },
    {
      "cell_type": "markdown",
      "metadata": {
        "id": "fYO9EoHi_71_"
      },
      "source": [
        "### 2a. Dropping unwanted columns\n",
        "We need to cut that `Unnamed: 0` column. Delete it here."
      ]
    },
    {
      "cell_type": "code",
      "execution_count": null,
      "metadata": {
        "id": "tORxV95b_71_",
        "colab": {
          "base_uri": "https://localhost:8080/",
          "height": 447
        },
        "outputId": "8f4f3a17-0de3-4551-a031-4953c963f80d"
      },
      "outputs": [
        {
          "output_type": "execute_result",
          "data": {
            "text/html": [
              "\n",
              "  <div id=\"df-f02bf827-5934-412a-82bc-47f06fbffbee\">\n",
              "    <div class=\"colab-df-container\">\n",
              "      <div>\n",
              "<style scoped>\n",
              "    .dataframe tbody tr th:only-of-type {\n",
              "        vertical-align: middle;\n",
              "    }\n",
              "\n",
              "    .dataframe tbody tr th {\n",
              "        vertical-align: top;\n",
              "    }\n",
              "\n",
              "    .dataframe thead th {\n",
              "        text-align: right;\n",
              "    }\n",
              "</style>\n",
              "<table border=\"1\" class=\"dataframe\">\n",
              "  <thead>\n",
              "    <tr style=\"text-align: right;\">\n",
              "      <th></th>\n",
              "      <th>Time</th>\n",
              "      <th>#CigSales</th>\n",
              "    </tr>\n",
              "  </thead>\n",
              "  <tbody>\n",
              "    <tr>\n",
              "      <th>0</th>\n",
              "      <td>1949-01</td>\n",
              "      <td>1000112</td>\n",
              "    </tr>\n",
              "    <tr>\n",
              "      <th>1</th>\n",
              "      <td>1949-02</td>\n",
              "      <td>1000118</td>\n",
              "    </tr>\n",
              "    <tr>\n",
              "      <th>2</th>\n",
              "      <td>1949-03</td>\n",
              "      <td>1000132</td>\n",
              "    </tr>\n",
              "    <tr>\n",
              "      <th>3</th>\n",
              "      <td>1949-04</td>\n",
              "      <td>1000129</td>\n",
              "    </tr>\n",
              "    <tr>\n",
              "      <th>4</th>\n",
              "      <td>1949-05</td>\n",
              "      <td>1000121</td>\n",
              "    </tr>\n",
              "    <tr>\n",
              "      <th>...</th>\n",
              "      <td>...</td>\n",
              "      <td>...</td>\n",
              "    </tr>\n",
              "    <tr>\n",
              "      <th>139</th>\n",
              "      <td>1960-08</td>\n",
              "      <td>1000606</td>\n",
              "    </tr>\n",
              "    <tr>\n",
              "      <th>140</th>\n",
              "      <td>1960-09</td>\n",
              "      <td>1000508</td>\n",
              "    </tr>\n",
              "    <tr>\n",
              "      <th>141</th>\n",
              "      <td>1960-10</td>\n",
              "      <td>1000461</td>\n",
              "    </tr>\n",
              "    <tr>\n",
              "      <th>142</th>\n",
              "      <td>1960-11</td>\n",
              "      <td>1000390</td>\n",
              "    </tr>\n",
              "    <tr>\n",
              "      <th>143</th>\n",
              "      <td>1960-12</td>\n",
              "      <td>1000432</td>\n",
              "    </tr>\n",
              "  </tbody>\n",
              "</table>\n",
              "<p>144 rows × 2 columns</p>\n",
              "</div>\n",
              "      <button class=\"colab-df-convert\" onclick=\"convertToInteractive('df-f02bf827-5934-412a-82bc-47f06fbffbee')\"\n",
              "              title=\"Convert this dataframe to an interactive table.\"\n",
              "              style=\"display:none;\">\n",
              "        \n",
              "  <svg xmlns=\"http://www.w3.org/2000/svg\" height=\"24px\"viewBox=\"0 0 24 24\"\n",
              "       width=\"24px\">\n",
              "    <path d=\"M0 0h24v24H0V0z\" fill=\"none\"/>\n",
              "    <path d=\"M18.56 5.44l.94 2.06.94-2.06 2.06-.94-2.06-.94-.94-2.06-.94 2.06-2.06.94zm-11 1L8.5 8.5l.94-2.06 2.06-.94-2.06-.94L8.5 2.5l-.94 2.06-2.06.94zm10 10l.94 2.06.94-2.06 2.06-.94-2.06-.94-.94-2.06-.94 2.06-2.06.94z\"/><path d=\"M17.41 7.96l-1.37-1.37c-.4-.4-.92-.59-1.43-.59-.52 0-1.04.2-1.43.59L10.3 9.45l-7.72 7.72c-.78.78-.78 2.05 0 2.83L4 21.41c.39.39.9.59 1.41.59.51 0 1.02-.2 1.41-.59l7.78-7.78 2.81-2.81c.8-.78.8-2.07 0-2.86zM5.41 20L4 18.59l7.72-7.72 1.47 1.35L5.41 20z\"/>\n",
              "  </svg>\n",
              "      </button>\n",
              "      \n",
              "  <style>\n",
              "    .colab-df-container {\n",
              "      display:flex;\n",
              "      flex-wrap:wrap;\n",
              "      gap: 12px;\n",
              "    }\n",
              "\n",
              "    .colab-df-convert {\n",
              "      background-color: #E8F0FE;\n",
              "      border: none;\n",
              "      border-radius: 50%;\n",
              "      cursor: pointer;\n",
              "      display: none;\n",
              "      fill: #1967D2;\n",
              "      height: 32px;\n",
              "      padding: 0 0 0 0;\n",
              "      width: 32px;\n",
              "    }\n",
              "\n",
              "    .colab-df-convert:hover {\n",
              "      background-color: #E2EBFA;\n",
              "      box-shadow: 0px 1px 2px rgba(60, 64, 67, 0.3), 0px 1px 3px 1px rgba(60, 64, 67, 0.15);\n",
              "      fill: #174EA6;\n",
              "    }\n",
              "\n",
              "    [theme=dark] .colab-df-convert {\n",
              "      background-color: #3B4455;\n",
              "      fill: #D2E3FC;\n",
              "    }\n",
              "\n",
              "    [theme=dark] .colab-df-convert:hover {\n",
              "      background-color: #434B5C;\n",
              "      box-shadow: 0px 1px 3px 1px rgba(0, 0, 0, 0.15);\n",
              "      filter: drop-shadow(0px 1px 2px rgba(0, 0, 0, 0.3));\n",
              "      fill: #FFFFFF;\n",
              "    }\n",
              "  </style>\n",
              "\n",
              "      <script>\n",
              "        const buttonEl =\n",
              "          document.querySelector('#df-f02bf827-5934-412a-82bc-47f06fbffbee button.colab-df-convert');\n",
              "        buttonEl.style.display =\n",
              "          google.colab.kernel.accessAllowed ? 'block' : 'none';\n",
              "\n",
              "        async function convertToInteractive(key) {\n",
              "          const element = document.querySelector('#df-f02bf827-5934-412a-82bc-47f06fbffbee');\n",
              "          const dataTable =\n",
              "            await google.colab.kernel.invokeFunction('convertToInteractive',\n",
              "                                                     [key], {});\n",
              "          if (!dataTable) return;\n",
              "\n",
              "          const docLinkHtml = 'Like what you see? Visit the ' +\n",
              "            '<a target=\"_blank\" href=https://colab.research.google.com/notebooks/data_table.ipynb>data table notebook</a>'\n",
              "            + ' to learn more about interactive tables.';\n",
              "          element.innerHTML = '';\n",
              "          dataTable['output_type'] = 'display_data';\n",
              "          await google.colab.output.renderOutput(dataTable, element);\n",
              "          const docLink = document.createElement('div');\n",
              "          docLink.innerHTML = docLinkHtml;\n",
              "          element.appendChild(docLink);\n",
              "        }\n",
              "      </script>\n",
              "    </div>\n",
              "  </div>\n",
              "  "
            ],
            "text/plain": [
              "        Time  #CigSales\n",
              "0    1949-01    1000112\n",
              "1    1949-02    1000118\n",
              "2    1949-03    1000132\n",
              "3    1949-04    1000129\n",
              "4    1949-05    1000121\n",
              "..       ...        ...\n",
              "139  1960-08    1000606\n",
              "140  1960-09    1000508\n",
              "141  1960-10    1000461\n",
              "142  1960-11    1000390\n",
              "143  1960-12    1000432\n",
              "\n",
              "[144 rows x 2 columns]"
            ]
          },
          "metadata": {},
          "execution_count": 8
        }
      ],
      "source": [
        "cigData.drop(columns='Unnamed: 0')"
      ]
    },
    {
      "cell_type": "markdown",
      "metadata": {
        "id": "r0dYKc5W_72A"
      },
      "source": [
        "### 2b. Nomenclature"
      ]
    },
    {
      "cell_type": "markdown",
      "metadata": {
        "id": "mr6FCEyN_72A"
      },
      "source": [
        "We can see that the `Time` column actually has the granularity of months. Change the name of that column to `Month`."
      ]
    },
    {
      "cell_type": "code",
      "execution_count": null,
      "metadata": {
        "id": "xMI7CD14_72A"
      },
      "outputs": [],
      "source": [
        "cigData.rename(columns={'Time':'Month'}, inplace=True)"
      ]
    },
    {
      "cell_type": "markdown",
      "metadata": {
        "id": "Ae0hG2LP_72A"
      },
      "source": [
        "Call a head() to check this has worked. "
      ]
    },
    {
      "cell_type": "code",
      "execution_count": null,
      "metadata": {
        "id": "bs5GtBKQ_72A",
        "colab": {
          "base_uri": "https://localhost:8080/",
          "height": 228
        },
        "outputId": "d46b6f88-0813-40f1-e041-0a322b2b511e"
      },
      "outputs": [
        {
          "output_type": "execute_result",
          "data": {
            "text/html": [
              "\n",
              "  <div id=\"df-7ba403fb-57b9-4cc8-9b51-816039cdce33\">\n",
              "    <div class=\"colab-df-container\">\n",
              "      <div>\n",
              "<style scoped>\n",
              "    .dataframe tbody tr th:only-of-type {\n",
              "        vertical-align: middle;\n",
              "    }\n",
              "\n",
              "    .dataframe tbody tr th {\n",
              "        vertical-align: top;\n",
              "    }\n",
              "\n",
              "    .dataframe thead th {\n",
              "        text-align: right;\n",
              "    }\n",
              "</style>\n",
              "<table border=\"1\" class=\"dataframe\">\n",
              "  <thead>\n",
              "    <tr style=\"text-align: right;\">\n",
              "      <th></th>\n",
              "      <th>Unnamed: 0</th>\n",
              "      <th>Month</th>\n",
              "      <th>#CigSales</th>\n",
              "    </tr>\n",
              "  </thead>\n",
              "  <tbody>\n",
              "    <tr>\n",
              "      <th>0</th>\n",
              "      <td>0</td>\n",
              "      <td>1949-01</td>\n",
              "      <td>1000112</td>\n",
              "    </tr>\n",
              "    <tr>\n",
              "      <th>1</th>\n",
              "      <td>1</td>\n",
              "      <td>1949-02</td>\n",
              "      <td>1000118</td>\n",
              "    </tr>\n",
              "    <tr>\n",
              "      <th>2</th>\n",
              "      <td>2</td>\n",
              "      <td>1949-03</td>\n",
              "      <td>1000132</td>\n",
              "    </tr>\n",
              "    <tr>\n",
              "      <th>3</th>\n",
              "      <td>3</td>\n",
              "      <td>1949-04</td>\n",
              "      <td>1000129</td>\n",
              "    </tr>\n",
              "    <tr>\n",
              "      <th>4</th>\n",
              "      <td>4</td>\n",
              "      <td>1949-05</td>\n",
              "      <td>1000121</td>\n",
              "    </tr>\n",
              "  </tbody>\n",
              "</table>\n",
              "</div>\n",
              "      <button class=\"colab-df-convert\" onclick=\"convertToInteractive('df-7ba403fb-57b9-4cc8-9b51-816039cdce33')\"\n",
              "              title=\"Convert this dataframe to an interactive table.\"\n",
              "              style=\"display:none;\">\n",
              "        \n",
              "  <svg xmlns=\"http://www.w3.org/2000/svg\" height=\"24px\"viewBox=\"0 0 24 24\"\n",
              "       width=\"24px\">\n",
              "    <path d=\"M0 0h24v24H0V0z\" fill=\"none\"/>\n",
              "    <path d=\"M18.56 5.44l.94 2.06.94-2.06 2.06-.94-2.06-.94-.94-2.06-.94 2.06-2.06.94zm-11 1L8.5 8.5l.94-2.06 2.06-.94-2.06-.94L8.5 2.5l-.94 2.06-2.06.94zm10 10l.94 2.06.94-2.06 2.06-.94-2.06-.94-.94-2.06-.94 2.06-2.06.94z\"/><path d=\"M17.41 7.96l-1.37-1.37c-.4-.4-.92-.59-1.43-.59-.52 0-1.04.2-1.43.59L10.3 9.45l-7.72 7.72c-.78.78-.78 2.05 0 2.83L4 21.41c.39.39.9.59 1.41.59.51 0 1.02-.2 1.41-.59l7.78-7.78 2.81-2.81c.8-.78.8-2.07 0-2.86zM5.41 20L4 18.59l7.72-7.72 1.47 1.35L5.41 20z\"/>\n",
              "  </svg>\n",
              "      </button>\n",
              "      \n",
              "  <style>\n",
              "    .colab-df-container {\n",
              "      display:flex;\n",
              "      flex-wrap:wrap;\n",
              "      gap: 12px;\n",
              "    }\n",
              "\n",
              "    .colab-df-convert {\n",
              "      background-color: #E8F0FE;\n",
              "      border: none;\n",
              "      border-radius: 50%;\n",
              "      cursor: pointer;\n",
              "      display: none;\n",
              "      fill: #1967D2;\n",
              "      height: 32px;\n",
              "      padding: 0 0 0 0;\n",
              "      width: 32px;\n",
              "    }\n",
              "\n",
              "    .colab-df-convert:hover {\n",
              "      background-color: #E2EBFA;\n",
              "      box-shadow: 0px 1px 2px rgba(60, 64, 67, 0.3), 0px 1px 3px 1px rgba(60, 64, 67, 0.15);\n",
              "      fill: #174EA6;\n",
              "    }\n",
              "\n",
              "    [theme=dark] .colab-df-convert {\n",
              "      background-color: #3B4455;\n",
              "      fill: #D2E3FC;\n",
              "    }\n",
              "\n",
              "    [theme=dark] .colab-df-convert:hover {\n",
              "      background-color: #434B5C;\n",
              "      box-shadow: 0px 1px 3px 1px rgba(0, 0, 0, 0.15);\n",
              "      filter: drop-shadow(0px 1px 2px rgba(0, 0, 0, 0.3));\n",
              "      fill: #FFFFFF;\n",
              "    }\n",
              "  </style>\n",
              "\n",
              "      <script>\n",
              "        const buttonEl =\n",
              "          document.querySelector('#df-7ba403fb-57b9-4cc8-9b51-816039cdce33 button.colab-df-convert');\n",
              "        buttonEl.style.display =\n",
              "          google.colab.kernel.accessAllowed ? 'block' : 'none';\n",
              "\n",
              "        async function convertToInteractive(key) {\n",
              "          const element = document.querySelector('#df-7ba403fb-57b9-4cc8-9b51-816039cdce33');\n",
              "          const dataTable =\n",
              "            await google.colab.kernel.invokeFunction('convertToInteractive',\n",
              "                                                     [key], {});\n",
              "          if (!dataTable) return;\n",
              "\n",
              "          const docLinkHtml = 'Like what you see? Visit the ' +\n",
              "            '<a target=\"_blank\" href=https://colab.research.google.com/notebooks/data_table.ipynb>data table notebook</a>'\n",
              "            + ' to learn more about interactive tables.';\n",
              "          element.innerHTML = '';\n",
              "          dataTable['output_type'] = 'display_data';\n",
              "          await google.colab.output.renderOutput(dataTable, element);\n",
              "          const docLink = document.createElement('div');\n",
              "          docLink.innerHTML = docLinkHtml;\n",
              "          element.appendChild(docLink);\n",
              "        }\n",
              "      </script>\n",
              "    </div>\n",
              "  </div>\n",
              "  "
            ],
            "text/plain": [
              "   Unnamed: 0    Month  #CigSales\n",
              "0           0  1949-01    1000112\n",
              "1           1  1949-02    1000118\n",
              "2           2  1949-03    1000132\n",
              "3           3  1949-04    1000129\n",
              "4           4  1949-05    1000121"
            ]
          },
          "metadata": {},
          "execution_count": 10
        }
      ],
      "source": [
        "cigData.head()"
      ]
    },
    {
      "cell_type": "code",
      "execution_count": null,
      "metadata": {
        "id": "yDsyCC5h_72B",
        "colab": {
          "base_uri": "https://localhost:8080/",
          "height": 447
        },
        "outputId": "5333ecb1-6cfc-4dda-9822-c133831e3b68"
      },
      "outputs": [
        {
          "output_type": "execute_result",
          "data": {
            "text/html": [
              "\n",
              "  <div id=\"df-58ac97c5-116e-4379-abd5-4de8f7fc1680\">\n",
              "    <div class=\"colab-df-container\">\n",
              "      <div>\n",
              "<style scoped>\n",
              "    .dataframe tbody tr th:only-of-type {\n",
              "        vertical-align: middle;\n",
              "    }\n",
              "\n",
              "    .dataframe tbody tr th {\n",
              "        vertical-align: top;\n",
              "    }\n",
              "\n",
              "    .dataframe thead th {\n",
              "        text-align: right;\n",
              "    }\n",
              "</style>\n",
              "<table border=\"1\" class=\"dataframe\">\n",
              "  <thead>\n",
              "    <tr style=\"text-align: right;\">\n",
              "      <th></th>\n",
              "      <th>Month</th>\n",
              "      <th>#CigSales</th>\n",
              "    </tr>\n",
              "  </thead>\n",
              "  <tbody>\n",
              "    <tr>\n",
              "      <th>0</th>\n",
              "      <td>1949-01</td>\n",
              "      <td>1000112</td>\n",
              "    </tr>\n",
              "    <tr>\n",
              "      <th>1</th>\n",
              "      <td>1949-02</td>\n",
              "      <td>1000118</td>\n",
              "    </tr>\n",
              "    <tr>\n",
              "      <th>2</th>\n",
              "      <td>1949-03</td>\n",
              "      <td>1000132</td>\n",
              "    </tr>\n",
              "    <tr>\n",
              "      <th>3</th>\n",
              "      <td>1949-04</td>\n",
              "      <td>1000129</td>\n",
              "    </tr>\n",
              "    <tr>\n",
              "      <th>4</th>\n",
              "      <td>1949-05</td>\n",
              "      <td>1000121</td>\n",
              "    </tr>\n",
              "    <tr>\n",
              "      <th>...</th>\n",
              "      <td>...</td>\n",
              "      <td>...</td>\n",
              "    </tr>\n",
              "    <tr>\n",
              "      <th>139</th>\n",
              "      <td>1960-08</td>\n",
              "      <td>1000606</td>\n",
              "    </tr>\n",
              "    <tr>\n",
              "      <th>140</th>\n",
              "      <td>1960-09</td>\n",
              "      <td>1000508</td>\n",
              "    </tr>\n",
              "    <tr>\n",
              "      <th>141</th>\n",
              "      <td>1960-10</td>\n",
              "      <td>1000461</td>\n",
              "    </tr>\n",
              "    <tr>\n",
              "      <th>142</th>\n",
              "      <td>1960-11</td>\n",
              "      <td>1000390</td>\n",
              "    </tr>\n",
              "    <tr>\n",
              "      <th>143</th>\n",
              "      <td>1960-12</td>\n",
              "      <td>1000432</td>\n",
              "    </tr>\n",
              "  </tbody>\n",
              "</table>\n",
              "<p>144 rows × 2 columns</p>\n",
              "</div>\n",
              "      <button class=\"colab-df-convert\" onclick=\"convertToInteractive('df-58ac97c5-116e-4379-abd5-4de8f7fc1680')\"\n",
              "              title=\"Convert this dataframe to an interactive table.\"\n",
              "              style=\"display:none;\">\n",
              "        \n",
              "  <svg xmlns=\"http://www.w3.org/2000/svg\" height=\"24px\"viewBox=\"0 0 24 24\"\n",
              "       width=\"24px\">\n",
              "    <path d=\"M0 0h24v24H0V0z\" fill=\"none\"/>\n",
              "    <path d=\"M18.56 5.44l.94 2.06.94-2.06 2.06-.94-2.06-.94-.94-2.06-.94 2.06-2.06.94zm-11 1L8.5 8.5l.94-2.06 2.06-.94-2.06-.94L8.5 2.5l-.94 2.06-2.06.94zm10 10l.94 2.06.94-2.06 2.06-.94-2.06-.94-.94-2.06-.94 2.06-2.06.94z\"/><path d=\"M17.41 7.96l-1.37-1.37c-.4-.4-.92-.59-1.43-.59-.52 0-1.04.2-1.43.59L10.3 9.45l-7.72 7.72c-.78.78-.78 2.05 0 2.83L4 21.41c.39.39.9.59 1.41.59.51 0 1.02-.2 1.41-.59l7.78-7.78 2.81-2.81c.8-.78.8-2.07 0-2.86zM5.41 20L4 18.59l7.72-7.72 1.47 1.35L5.41 20z\"/>\n",
              "  </svg>\n",
              "      </button>\n",
              "      \n",
              "  <style>\n",
              "    .colab-df-container {\n",
              "      display:flex;\n",
              "      flex-wrap:wrap;\n",
              "      gap: 12px;\n",
              "    }\n",
              "\n",
              "    .colab-df-convert {\n",
              "      background-color: #E8F0FE;\n",
              "      border: none;\n",
              "      border-radius: 50%;\n",
              "      cursor: pointer;\n",
              "      display: none;\n",
              "      fill: #1967D2;\n",
              "      height: 32px;\n",
              "      padding: 0 0 0 0;\n",
              "      width: 32px;\n",
              "    }\n",
              "\n",
              "    .colab-df-convert:hover {\n",
              "      background-color: #E2EBFA;\n",
              "      box-shadow: 0px 1px 2px rgba(60, 64, 67, 0.3), 0px 1px 3px 1px rgba(60, 64, 67, 0.15);\n",
              "      fill: #174EA6;\n",
              "    }\n",
              "\n",
              "    [theme=dark] .colab-df-convert {\n",
              "      background-color: #3B4455;\n",
              "      fill: #D2E3FC;\n",
              "    }\n",
              "\n",
              "    [theme=dark] .colab-df-convert:hover {\n",
              "      background-color: #434B5C;\n",
              "      box-shadow: 0px 1px 3px 1px rgba(0, 0, 0, 0.15);\n",
              "      filter: drop-shadow(0px 1px 2px rgba(0, 0, 0, 0.3));\n",
              "      fill: #FFFFFF;\n",
              "    }\n",
              "  </style>\n",
              "\n",
              "      <script>\n",
              "        const buttonEl =\n",
              "          document.querySelector('#df-58ac97c5-116e-4379-abd5-4de8f7fc1680 button.colab-df-convert');\n",
              "        buttonEl.style.display =\n",
              "          google.colab.kernel.accessAllowed ? 'block' : 'none';\n",
              "\n",
              "        async function convertToInteractive(key) {\n",
              "          const element = document.querySelector('#df-58ac97c5-116e-4379-abd5-4de8f7fc1680');\n",
              "          const dataTable =\n",
              "            await google.colab.kernel.invokeFunction('convertToInteractive',\n",
              "                                                     [key], {});\n",
              "          if (!dataTable) return;\n",
              "\n",
              "          const docLinkHtml = 'Like what you see? Visit the ' +\n",
              "            '<a target=\"_blank\" href=https://colab.research.google.com/notebooks/data_table.ipynb>data table notebook</a>'\n",
              "            + ' to learn more about interactive tables.';\n",
              "          element.innerHTML = '';\n",
              "          dataTable['output_type'] = 'display_data';\n",
              "          await google.colab.output.renderOutput(dataTable, element);\n",
              "          const docLink = document.createElement('div');\n",
              "          docLink.innerHTML = docLinkHtml;\n",
              "          element.appendChild(docLink);\n",
              "        }\n",
              "      </script>\n",
              "    </div>\n",
              "  </div>\n",
              "  "
            ],
            "text/plain": [
              "       Month  #CigSales\n",
              "0    1949-01    1000112\n",
              "1    1949-02    1000118\n",
              "2    1949-03    1000132\n",
              "3    1949-04    1000129\n",
              "4    1949-05    1000121\n",
              "..       ...        ...\n",
              "139  1960-08    1000606\n",
              "140  1960-09    1000508\n",
              "141  1960-10    1000461\n",
              "142  1960-11    1000390\n",
              "143  1960-12    1000432\n",
              "\n",
              "[144 rows x 2 columns]"
            ]
          },
          "metadata": {},
          "execution_count": 11
        }
      ],
      "source": [
        "cigData.drop(columns='Unnamed: 0')"
      ]
    },
    {
      "cell_type": "markdown",
      "metadata": {
        "id": "-FaN_k97_72B"
      },
      "source": [
        "### 2c. Type conversions "
      ]
    },
    {
      "cell_type": "markdown",
      "metadata": {
        "id": "fz5W_9XG_72B"
      },
      "source": [
        "Now, do time series analysis on a Pandas dataframe is overkill, and is actually counter-productive. It's much more easy to carry out this type of analysis if we convert our data to a series first.\n",
        "\n",
        "Notice that the `Month` field was an object. Let's type convert the `Month` column to a Python `datetime`, before making that the index."
      ]
    },
    {
      "cell_type": "code",
      "execution_count": null,
      "metadata": {
        "id": "OpHJ-IbV_72B"
      },
      "outputs": [],
      "source": [
        "cigData['Month'] = pd.to_datetime(cigData['Month'])\n",
        "cigData.set_index('Month', inplace=True)"
      ]
    },
    {
      "cell_type": "code",
      "source": [
        "cigData = cigData.drop(columns='Unnamed: 0')"
      ],
      "metadata": {
        "id": "xUwFK9-7viX0"
      },
      "execution_count": null,
      "outputs": []
    },
    {
      "cell_type": "code",
      "source": [
        "cigData.info()"
      ],
      "metadata": {
        "colab": {
          "base_uri": "https://localhost:8080/"
        },
        "id": "ATI-QdxGvJJ7",
        "outputId": "2145488a-23a9-4c3a-f461-dd4f56add7b8"
      },
      "execution_count": null,
      "outputs": [
        {
          "output_type": "stream",
          "name": "stdout",
          "text": [
            "<class 'pandas.core.frame.DataFrame'>\n",
            "DatetimeIndex: 144 entries, 1949-01-01 to 1960-12-01\n",
            "Data columns (total 1 columns):\n",
            " #   Column     Non-Null Count  Dtype\n",
            "---  ------     --------------  -----\n",
            " 0   #CigSales  144 non-null    int64\n",
            "dtypes: int64(1)\n",
            "memory usage: 2.2 KB\n"
          ]
        }
      ]
    },
    {
      "cell_type": "markdown",
      "metadata": {
        "id": "sfVg6oSs_72B"
      },
      "source": [
        "Perfect! "
      ]
    },
    {
      "cell_type": "markdown",
      "metadata": {
        "id": "fPy9whfo_72C"
      },
      "source": [
        "### 2d. Making a predictor variable `y`"
      ]
    },
    {
      "cell_type": "markdown",
      "metadata": {
        "id": "A3lvHO84_72C"
      },
      "source": [
        "The data is now indexed by date, as time series data ought to be.\n",
        "\n",
        "Since we want to predict the number of cigarette sales at Cowboy cigarettes, and `y` is typically used to signify a predictor variable, let's create a new variable called `y` and assign the indexed #Passenger column. "
      ]
    },
    {
      "cell_type": "code",
      "execution_count": null,
      "metadata": {
        "id": "bgs9vceS_72C"
      },
      "outputs": [],
      "source": [
        "y = cigData['#CigSales']"
      ]
    },
    {
      "cell_type": "markdown",
      "metadata": {
        "id": "6dndK8el_72C"
      },
      "source": [
        "Check the type of our new variable. "
      ]
    },
    {
      "cell_type": "code",
      "execution_count": null,
      "metadata": {
        "scrolled": true,
        "id": "uO6Rq9f5_72C",
        "colab": {
          "base_uri": "https://localhost:8080/"
        },
        "outputId": "9f54d837-a70b-401a-f554-d28c63e61d28"
      },
      "outputs": [
        {
          "output_type": "execute_result",
          "data": {
            "text/plain": [
              "dtype('int64')"
            ]
          },
          "metadata": {},
          "execution_count": 16
        }
      ],
      "source": [
        "y.dtype"
      ]
    },
    {
      "cell_type": "markdown",
      "metadata": {
        "id": "3-Bsfdml_72D"
      },
      "source": [
        "### 2e. Getting summary statistics for `y`"
      ]
    },
    {
      "cell_type": "markdown",
      "metadata": {
        "id": "UNkThN6s_72D"
      },
      "source": [
        "Get the summary statistics of our data here. "
      ]
    },
    {
      "cell_type": "code",
      "execution_count": null,
      "metadata": {
        "scrolled": true,
        "id": "_DmmZLFT_72D",
        "colab": {
          "base_uri": "https://localhost:8080/"
        },
        "outputId": "35af87df-2e5e-4acd-a59c-9761faab4acf"
      },
      "outputs": [
        {
          "output_type": "execute_result",
          "data": {
            "text/plain": [
              "count    1.440000e+02\n",
              "mean     1.000280e+06\n",
              "std      1.199663e+02\n",
              "min      1.000104e+06\n",
              "25%      1.000180e+06\n",
              "50%      1.000266e+06\n",
              "75%      1.000360e+06\n",
              "max      1.000622e+06\n",
              "Name: #CigSales, dtype: float64"
            ]
          },
          "metadata": {},
          "execution_count": 17
        }
      ],
      "source": [
        "y.describe()"
      ]
    },
    {
      "cell_type": "markdown",
      "metadata": {
        "id": "7r1rgm-E_72D"
      },
      "source": [
        "Try visualizing the data. A simple `matplotlib` plot should do the trick.  "
      ]
    },
    {
      "cell_type": "markdown",
      "metadata": {
        "id": "gqvM2bRa_72D"
      },
      "source": [
        "### 2f. Plotting `y`"
      ]
    },
    {
      "cell_type": "code",
      "execution_count": null,
      "metadata": {
        "id": "otvIHKDC_72D",
        "colab": {
          "base_uri": "https://localhost:8080/",
          "height": 72
        },
        "outputId": "1090294f-337e-4483-cbe0-7598fdfa9500"
      },
      "outputs": [
        {
          "output_type": "execute_result",
          "data": {
            "text/plain": [
              "<matplotlib.axes._subplots.AxesSubplot at 0x7fca324ad4d0>"
            ]
          },
          "metadata": {},
          "execution_count": 18
        },
        {
          "output_type": "display_data",
          "data": {
            "image/png": "[encoded data removed]",
            "text/plain": [
              "<Figure size 432x288 with 1 Axes>"
            ]
          },
          "metadata": {
            "needs_background": "light"
          }
        }
      ],
      "source": [
        "y.plot()"
      ]
    },
    {
      "cell_type": "markdown",
      "metadata": {
        "id": "Hjh9MAVF_72E"
      },
      "source": [
        "## 3. Modelling \n",
        "### 3a. Decomposition\n",
        "What do you notice from the plot? Take at least `2` minutes to examine the plot, and write down everything you observe.  \n",
        "\n",
        "All done?\n",
        "\n",
        "We can see that, generally, there is a trend upwards in cigarette sales from at Cowboy Cigarettes. But there are also some striking - and perhaps unexpected - seasonal fluctuations. These seasonal fluctations come in a repeated pattern. Work out when these seasonal fluctuations are happening, and take 2 minutes to hypothesize on their cause here.\n",
        "\n",
        "What does it mean to *decompose* time series data? It means breaking that data into 3 components: \n",
        "\n",
        "1. **Trend**: The overall direction that the data is travelling in (like upwards or downwards)\n",
        "2. **Seasonality**: Cyclical patterns in the data \n",
        "3. **Noise**: The random variation in the data\n",
        "\n",
        "We can treat these components differently, depending on the question and what's appropriate in the context. They can either be added together in an *additive* model, or multiplied together in a *multiplicative* model. \n",
        "\n",
        "Make a coffee, take `5` minutes and read [this article](https://medium.com/@sigmundojr/seasonality-in-python-additive-or-multiplicative-model-d4b9cf1f48a7) and think about whether our data would conduce to an additive or multiplicative model here. Write your conclusion down just here: \n",
        "\n",
        "### Our data would conduce to a multiplicative model. The magnitude and amptitude of seasonal pattern varies over time. "
      ]
    },
    {
      "cell_type": "markdown",
      "metadata": {
        "id": "N2pRBxIw_72E"
      },
      "source": [
        "All done? Well, just on the basis of the plot above, it seems our Cowboy Cigarettes data is actually multiplicative. \n",
        "\n",
        "That's because, as time progresses, the general trend seems to be increasing *at a rate that's also increasing*. We also see that the seasonal fluctuations (the peaks and troughs) get bigger and bigger as time progresses.\n",
        "\n",
        "Now on the other hand, if the data were simply additive, we could expect the general trend to increase at a *steadily*, and a constant speed; and also for seasonal ups and downs not to increase or decrease in extent over time.\n",
        "\n",
        "Happily, we can use the `decompose()` function to quantify the component parts described above in our data."
      ]
    },
    {
      "cell_type": "code",
      "execution_count": null,
      "metadata": {
        "scrolled": true,
        "id": "JlN1wnae_72F",
        "colab": {
          "base_uri": "https://localhost:8080/",
          "height": 352
        },
        "outputId": "b65c3ed1-86a9-4880-cdfb-2376920c605c"
      },
      "outputs": [
        {
          "output_type": "stream",
          "name": "stderr",
          "text": [
            "/usr/local/lib/python3.7/dist-packages/statsmodels/tools/_testing.py:19: FutureWarning: pandas.util.testing is deprecated. Use the functions in the public API at pandas.testing instead.\n",
            "  import pandas.util.testing as tm\n"
          ]
        },
        {
          "output_type": "display_data",
          "data": {
            "image/png": "[encoded data removed]",
            "text/plain": [
              "<Figure size 432x288 with 4 Axes>"
            ]
          },
          "metadata": {
            "needs_background": "light"
          }
        }
      ],
      "source": [
        "# Import seasonal_decompose \n",
        "from statsmodels.tsa.seasonal import seasonal_decompose\n",
        "\n",
        "decomposition = seasonal_decompose(y)\n",
        "\n",
        "# Make three variables for trend, seasonal and residual components respectively. \n",
        "# Assign them the relevant features of decomposition \n",
        "observed = decomposition.observed\n",
        "trend = decomposition.trend\n",
        "seasonal = decomposition.seasonal\n",
        "residual = decomposition.resid\n",
        "\n",
        "# Plot the original data, the trend, the seasonality, and the residuals \n",
        "plt.subplot(411)\n",
        "plt.plot(y, label = 'Observed')\n",
        "plt.legend(loc = 'best')\n",
        "plt.subplot(412)\n",
        "plt.plot(trend, label = 'Trend')\n",
        "plt.legend(loc = 'best')\n",
        "plt.subplot(413)\n",
        "plt.plot(seasonal, label = 'Seasonal')\n",
        "plt.legend(loc = 'best')\n",
        "plt.subplot(414)\n",
        "plt.plot(residual, label = 'Residuals')\n",
        "plt.legend(loc = 'best')\n",
        "plt.tight_layout()\n",
        "\n"
      ]
    },
    {
      "cell_type": "markdown",
      "metadata": {
        "id": "ZaXGEh7u_72F"
      },
      "source": [
        "### 3b. Testing for stationarity with KPSS\n",
        "As you know, when doing time series analysis we always have to check for stationarity. Imprecisely, a time series dataset is stationary just if its statistical features don't change over time. A little more precisely, a stationary time series dataset will have constant mean, variance, and covariance.\n",
        "\n",
        "There are many ways to test for stationarity, but one of the most common is the KPSS test. The Null hypothesis of this test is that the time series data in question is stationary; hence, if the *p*-value is less than the significance level (typically 0.05, but we decide) then we reject the Null and infer that the data is not stationary."
      ]
    },
    {
      "cell_type": "code",
      "execution_count": null,
      "metadata": {
        "scrolled": true,
        "id": "nP_dBHH0_72F",
        "colab": {
          "base_uri": "https://localhost:8080/"
        },
        "outputId": "4f8d9557-4f3a-4232-bb72-eb07fae5689a"
      },
      "outputs": [
        {
          "output_type": "stream",
          "name": "stderr",
          "text": [
            "/usr/local/lib/python3.7/dist-packages/statsmodels/tsa/stattools.py:1685: FutureWarning: The behavior of using lags=None will change in the next release. Currently lags=None is the same as lags='legacy', and so a sample-size lag length is used. After the next release, the default will change to be the same as lags='auto' which uses an automatic lag length selection method. To silence this warning, either use 'auto' or 'legacy'\n",
            "  warn(msg, FutureWarning)\n",
            "/usr/local/lib/python3.7/dist-packages/statsmodels/tsa/stattools.py:1709: InterpolationWarning: p-value is smaller than the indicated p-value\n",
            "  warn(\"p-value is smaller than the indicated p-value\", InterpolationWarning)\n"
          ]
        },
        {
          "output_type": "execute_result",
          "data": {
            "text/plain": [
              "(1.0521750110138661,\n",
              " 0.01,\n",
              " 14,\n",
              " {'1%': 0.739, '10%': 0.347, '2.5%': 0.574, '5%': 0.463})"
            ]
          },
          "metadata": {},
          "execution_count": 20
        }
      ],
      "source": [
        "from statsmodels.tsa.stattools import kpss\n",
        "kpss(y)"
      ]
    },
    {
      "cell_type": "markdown",
      "metadata": {
        "id": "mlKErYYg_72F"
      },
      "source": [
        "Since our p-value is less than 0.05, we should reject the Null hypothesis and deduce the non-stationarity of our data. \n",
        "\n",
        "But our data need to be stationary! So we need to do some transforming."
      ]
    },
    {
      "cell_type": "markdown",
      "metadata": {
        "id": "E63gIlAY_72F"
      },
      "source": [
        "### 3c. Making the data stationary \n",
        "Let's recall what it looks like. "
      ]
    },
    {
      "cell_type": "code",
      "execution_count": null,
      "metadata": {
        "id": "LxBfuzB0_72G",
        "colab": {
          "base_uri": "https://localhost:8080/",
          "height": 72
        },
        "outputId": "533f9e0c-210b-4a3a-f68b-da693d5566f5"
      },
      "outputs": [
        {
          "output_type": "execute_result",
          "data": {
            "text/plain": [
              "<matplotlib.axes._subplots.AxesSubplot at 0x7fca13d18e90>"
            ]
          },
          "metadata": {},
          "execution_count": 21
        },
        {
          "output_type": "display_data",
          "data": {
            "image/png": "[encoded data removed]",
            "text/plain": [
              "<Figure size 432x288 with 1 Axes>"
            ]
          },
          "metadata": {
            "needs_background": "light"
          }
        }
      ],
      "source": [
        "y.plot()"
      ]
    },
    {
      "cell_type": "markdown",
      "metadata": {
        "id": "hM_jwiRV_72G"
      },
      "source": [
        "In our plot, we can see that both the mean and the variance *increase as time progresses*. At the moment, our data has neither a constant mean, nor a constant variance (the covariance, however, seems constant). \n",
        "\n",
        "One ofte  used way of getting rid of changing variance is to take the natural log of all the values in our dataset. Let's do this now. "
      ]
    },
    {
      "cell_type": "code",
      "execution_count": null,
      "metadata": {
        "id": "XFCr224s_72G"
      },
      "outputs": [],
      "source": [
        "y_log = np.log(y)"
      ]
    },
    {
      "cell_type": "markdown",
      "metadata": {
        "id": "3uu5249e_72G"
      },
      "source": [
        "\n",
        "When you plot this, you can see how the variance in our data now remains contant over time."
      ]
    },
    {
      "cell_type": "code",
      "execution_count": null,
      "metadata": {
        "scrolled": true,
        "id": "yIuV4lm-_72G",
        "colab": {
          "base_uri": "https://localhost:8080/",
          "height": 72
        },
        "outputId": "f11b530d-a6b7-41de-863a-5313a174914d"
      },
      "outputs": [
        {
          "output_type": "execute_result",
          "data": {
            "text/plain": [
              "<matplotlib.axes._subplots.AxesSubplot at 0x7fca1389d410>"
            ]
          },
          "metadata": {},
          "execution_count": 23
        },
        {
          "output_type": "display_data",
          "data": {
            "image/png": "[encoded data removed]",
            "text/plain": [
              "<Figure size 432x288 with 1 Axes>"
            ]
          },
          "metadata": {
            "needs_background": "light"
          }
        }
      ],
      "source": [
        "y_log.plot()"
      ]
    },
    {
      "cell_type": "markdown",
      "metadata": {
        "id": "nqy4ob2z_72G"
      },
      "source": [
        "We now have a constant variance, but we also need a constant mean.\n",
        "\n",
        "We can do this by *differencing* our data. We difference a time series dataset when we create a new time series comprising the difference between the values of our existing dataset.\n",
        "\n",
        "Python is powerful, and we can use the `diff()` function to do this. You'll notice there's one less value than our existing dataset (since we're taking the difference between the existing values)."
      ]
    },
    {
      "cell_type": "code",
      "execution_count": null,
      "metadata": {
        "scrolled": true,
        "id": "twlLycbO_72H",
        "colab": {
          "base_uri": "https://localhost:8080/"
        },
        "outputId": "001f311d-4cd8-4c28-ef0c-1af9234e1c36"
      },
      "outputs": [
        {
          "output_type": "stream",
          "name": "stderr",
          "text": [
            "/usr/local/lib/python3.7/dist-packages/statsmodels/tsa/stattools.py:1685: FutureWarning: The behavior of using lags=None will change in the next release. Currently lags=None is the same as lags='legacy', and so a sample-size lag length is used. After the next release, the default will change to be the same as lags='auto' which uses an automatic lag length selection method. To silence this warning, either use 'auto' or 'legacy'\n",
            "  warn(msg, FutureWarning)\n",
            "/usr/local/lib/python3.7/dist-packages/statsmodels/tsa/stattools.py:1711: InterpolationWarning: p-value is greater than the indicated p-value\n",
            "  warn(\"p-value is greater than the indicated p-value\", InterpolationWarning)\n"
          ]
        },
        {
          "output_type": "execute_result",
          "data": {
            "text/plain": [
              "(0.05301079859857676,\n",
              " 0.1,\n",
              " 14,\n",
              " {'1%': 0.739, '10%': 0.347, '2.5%': 0.574, '5%': 0.463})"
            ]
          },
          "metadata": {},
          "execution_count": 24
        }
      ],
      "source": [
        "kpss(y_log.diff().dropna())"
      ]
    },
    {
      "cell_type": "markdown",
      "metadata": {
        "id": "5zIg0o5Z_72H"
      },
      "source": [
        "Our p-value is now greater than 0.05, so we can accept the null hypothesis that our data is stationary."
      ]
    },
    {
      "cell_type": "markdown",
      "metadata": {
        "id": "yay1kRdQ_72H"
      },
      "source": [
        "### 3d. The ARIMA model\n",
        "\n",
        "Recall that ARIMA models are based around the idea that it's possible to predict the next value in a time series by using information about the most recent data points. It also assumes there will be some randomness in our data that can't ever be predicted.\n",
        "\n",
        "We can find some good parameters for our model using the `sklearn` and `statsmodels` libraries, and in particular `mean_squared_error` and `ARIMA`. "
      ]
    },
    {
      "cell_type": "code",
      "execution_count": null,
      "metadata": {
        "id": "Ya1paKqZ_72H"
      },
      "outputs": [],
      "source": [
        "# Import mean_squared_error and ARIMA\n",
        "from sklearn.metrics import mean_squared_error\n",
        "from statsmodels.tsa.arima_model import ARIMA"
      ]
    },
    {
      "cell_type": "markdown",
      "metadata": {
        "id": "ClFBywTg_72H"
      },
      "source": [
        "#### 3di. Make a function to find the MSE of a single ARIMA model\n",
        "Things get intricate here. Don't worry if you can't do this yourself and need to drop down a Tier. "
      ]
    },
    {
      "cell_type": "code",
      "execution_count": null,
      "metadata": {
        "id": "kMNBrS4q_72H"
      },
      "outputs": [],
      "source": [
        "# Make a function called evaluate_arima_model to find the MSE of a single ARIMA model \n",
        "def evaluate_arima_model(data, arima_order):\n",
        "    # Needs to be an integer because it is later used as an index.\n",
        "    # Use int()\n",
        "    split=int(len(data) * 0.8) \n",
        "    # Make train and test variables, with 'train, test'\n",
        "    train, test = data[0:split], data[split:len(data)]\n",
        "    past=[x for x in train]\n",
        "    # make predictions\n",
        "    predictions = list()\n",
        "    for i in range(len(test)):#timestep-wise comparison between test data and one-step prediction ARIMA model. \n",
        "        model = ARIMA(past, order=arima_order)\n",
        "        model_fit = model.fit(disp=0)\n",
        "        future = model_fit.forecast()[0]\n",
        "        predictions.append(future)\n",
        "        past.append(test[i])\n",
        "    # calculate out of sample error\n",
        "    error = mean_squared_error(test, predictions)\n",
        "    # Return the error\n",
        "    return "
      ]
    },
    {
      "cell_type": "markdown",
      "metadata": {
        "id": "fcZZsG0-_72I"
      },
      "source": [
        "#### 3dii. Make a function to evaluate the different ARIMA models with different p, d, and q values"
      ]
    },
    {
      "cell_type": "code",
      "execution_count": null,
      "metadata": {
        "id": "o2SSt6Lc_72I"
      },
      "outputs": [],
      "source": [
        "# Make a function to evaluate different ARIMA models with several different p, d, and q values.\n",
        "# Make a function called evaluate_models to evaluate different ARIMA models with several different p, d, and q values.\n",
        "def evaluate_models(dataset, p_values, d_values, q_values):\n",
        "    best_score, best_cfg = float(\"inf\"), None\n",
        "    # Iterate through p_values\n",
        "    for p in range(len(p_values)):\n",
        "        # Iterate through d_values\n",
        "        for d in range(len(d_values)):\n",
        "            # Iterate through q_values\n",
        "            for q in range(len(q_values)):\n",
        "                # p, d, q iterator variables in that order\n",
        "                order = (p, d,q)\n",
        "                try:\n",
        "                    # Make a variable called mse for the Mean squared error\n",
        "                    mse = evaluate_arima_model(dataset, order)\n",
        "                    if mse < best_score:\n",
        "                        best_score, best_cfg = mse, order\n",
        "                    print('ARIMA%s MSE=%.3f' % (order,mse))\n",
        "                except:\n",
        "                    continue\n",
        "    return print('Best ARIMA%s MSE=%.3f' % (best_cfg, best_score))"
      ]
    },
    {
      "cell_type": "code",
      "execution_count": null,
      "metadata": {
        "id": "70958p9A_72I"
      },
      "outputs": [],
      "source": [
        "# Now, we choose a couple of values to try for each parameter.\n",
        "p_values = [x for x in range(0, 3)]\n",
        "d_values = [x for x in range(0, 3)]\n",
        "q_values = [x for x in range(0, 3)]"
      ]
    },
    {
      "cell_type": "code",
      "execution_count": null,
      "metadata": {
        "scrolled": false,
        "id": "7Z7yshcs_72I",
        "colab": {
          "base_uri": "https://localhost:8080/"
        },
        "outputId": "64bf8953-27bf-4ccb-a360-9afe092a9607"
      },
      "outputs": [
        {
          "output_type": "stream",
          "name": "stdout",
          "text": [
            "Best ARIMANone MSE=inf\n"
          ]
        }
      ],
      "source": [
        "# Finally, we can find the optimum ARIMA model for our data.\n",
        "# Nb. this can take a while...!\n",
        "import warnings\n",
        "warnings.filterwarnings(\"ignore\")\n",
        "evaluate_models(y_log, p_values, d_values, q_values)"
      ]
    },
    {
      "cell_type": "markdown",
      "metadata": {
        "id": "y5UthcuV_72I"
      },
      "source": [
        "So the best p,d, q, parameters for our ARIMA model are 2, 1, 1 respectively. Now we know this, we can build the model."
      ]
    },
    {
      "cell_type": "code",
      "execution_count": null,
      "metadata": {
        "id": "SqnkZSyt_72I"
      },
      "outputs": [],
      "source": [
        "p = 2\n",
        "d = 1\n",
        "q = 1\n",
        "model = ARIMA(y_log, order=(p,d,q))\n",
        "model_fit = model.fit()\n",
        "forecast = model_fit.forecast(24)"
      ]
    },
    {
      "cell_type": "markdown",
      "metadata": {
        "id": "I19xqMa__72J"
      },
      "source": [
        "We can take a look at a summary of the model this library has built around our data."
      ]
    },
    {
      "cell_type": "code",
      "execution_count": null,
      "metadata": {
        "scrolled": false,
        "id": "D7hZvJYQ_72J",
        "colab": {
          "base_uri": "https://localhost:8080/",
          "height": 548
        },
        "outputId": "45b143d5-1b05-4fb0-e3ec-a60e31b5ae30"
      },
      "outputs": [
        {
          "output_type": "execute_result",
          "data": {
            "text/html": [
              "<table class=\"simpletable\">\n",
              "<caption>ARIMA Model Results</caption>\n",
              "<tr>\n",
              "  <th>Dep. Variable:</th>    <td>D.#CigSales</td>   <th>  No. Observations:  </th>    <td>143</td>   \n",
              "</tr>\n",
              "<tr>\n",
              "  <th>Model:</th>          <td>ARIMA(2, 1, 1)</td>  <th>  Log Likelihood     </th> <td>1263.116</td> \n",
              "</tr>\n",
              "<tr>\n",
              "  <th>Method:</th>             <td>css-mle</td>     <th>  S.D. of innovations</th>   <td>0.000</td>  \n",
              "</tr>\n",
              "<tr>\n",
              "  <th>Date:</th>          <td>Tue, 25 Jan 2022</td> <th>  AIC                </th> <td>-2516.233</td>\n",
              "</tr>\n",
              "<tr>\n",
              "  <th>Time:</th>              <td>15:35:48</td>     <th>  BIC                </th> <td>-2501.418</td>\n",
              "</tr>\n",
              "<tr>\n",
              "  <th>Sample:</th>           <td>02-01-1949</td>    <th>  HQIC               </th> <td>-2510.213</td>\n",
              "</tr>\n",
              "<tr>\n",
              "  <th></th>                 <td>- 12-01-1960</td>   <th>                     </th>     <td> </td>    \n",
              "</tr>\n",
              "</table>\n",
              "<table class=\"simpletable\">\n",
              "<tr>\n",
              "          <td></td>             <th>coef</th>     <th>std err</th>      <th>z</th>      <th>P>|z|</th>  <th>[0.025</th>    <th>0.975]</th>  \n",
              "</tr>\n",
              "<tr>\n",
              "  <th>const</th>             <td> 2.624e-06</td> <td> 5.06e-07</td> <td>    5.184</td> <td> 0.000</td> <td> 1.63e-06</td> <td> 3.62e-06</td>\n",
              "</tr>\n",
              "<tr>\n",
              "  <th>ar.L1.D.#CigSales</th> <td>    0.4681</td> <td>    0.156</td> <td>    3.003</td> <td> 0.003</td> <td>    0.163</td> <td>    0.774</td>\n",
              "</tr>\n",
              "<tr>\n",
              "  <th>ar.L2.D.#CigSales</th> <td>   -0.2640</td> <td>    0.109</td> <td>   -2.413</td> <td> 0.017</td> <td>   -0.478</td> <td>   -0.050</td>\n",
              "</tr>\n",
              "<tr>\n",
              "  <th>ma.L1.D.#CigSales</th> <td>   -0.8693</td> <td>      nan</td> <td>      nan</td> <td>   nan</td> <td>      nan</td> <td>      nan</td>\n",
              "</tr>\n",
              "</table>\n",
              "<table class=\"simpletable\">\n",
              "<caption>Roots</caption>\n",
              "<tr>\n",
              "    <td></td>   <th>            Real</th>  <th>         Imaginary</th> <th>         Modulus</th>  <th>        Frequency</th>\n",
              "</tr>\n",
              "<tr>\n",
              "  <th>AR.1</th> <td>           0.8866</td> <td>          -1.7326j</td> <td>           1.9463</td> <td>          -0.1747</td>\n",
              "</tr>\n",
              "<tr>\n",
              "  <th>AR.2</th> <td>           0.8866</td> <td>          +1.7326j</td> <td>           1.9463</td> <td>           0.1747</td>\n",
              "</tr>\n",
              "<tr>\n",
              "  <th>MA.1</th> <td>           1.1504</td> <td>          +0.0000j</td> <td>           1.1504</td> <td>           0.0000</td>\n",
              "</tr>\n",
              "</table>"
            ],
            "text/plain": [
              "<class 'statsmodels.iolib.summary.Summary'>\n",
              "\"\"\"\n",
              "                             ARIMA Model Results                              \n",
              "==============================================================================\n",
              "Dep. Variable:            D.#CigSales   No. Observations:                  143\n",
              "Model:                 ARIMA(2, 1, 1)   Log Likelihood                1263.116\n",
              "Method:                       css-mle   S.D. of innovations              0.000\n",
              "Date:                Tue, 25 Jan 2022   AIC                          -2516.233\n",
              "Time:                        15:35:48   BIC                          -2501.418\n",
              "Sample:                    02-01-1949   HQIC                         -2510.213\n",
              "                         - 12-01-1960                                         \n",
              "=====================================================================================\n",
              "                        coef    std err          z      P>|z|      [0.025      0.975]\n",
              "-------------------------------------------------------------------------------------\n",
              "const              2.624e-06   5.06e-07      5.184      0.000    1.63e-06    3.62e-06\n",
              "ar.L1.D.#CigSales     0.4681      0.156      3.003      0.003       0.163       0.774\n",
              "ar.L2.D.#CigSales    -0.2640      0.109     -2.413      0.017      -0.478      -0.050\n",
              "ma.L1.D.#CigSales    -0.8693        nan        nan        nan         nan         nan\n",
              "                                    Roots                                    \n",
              "=============================================================================\n",
              "                  Real          Imaginary           Modulus         Frequency\n",
              "-----------------------------------------------------------------------------\n",
              "AR.1            0.8866           -1.7326j            1.9463           -0.1747\n",
              "AR.2            0.8866           +1.7326j            1.9463            0.1747\n",
              "MA.1            1.1504           +0.0000j            1.1504            0.0000\n",
              "-----------------------------------------------------------------------------\n",
              "\"\"\""
            ]
          },
          "metadata": {},
          "execution_count": 31
        }
      ],
      "source": [
        "model_fit.summary()"
      ]
    },
    {
      "cell_type": "markdown",
      "metadata": {
        "id": "hbxS8RkP_72J"
      },
      "source": [
        "### 3e. Visualize the results \n",
        "\n",
        "Visualize the original dataset plotted against our model. "
      ]
    },
    {
      "cell_type": "code",
      "execution_count": null,
      "metadata": {
        "id": "ND4htYSA_72J",
        "colab": {
          "base_uri": "https://localhost:8080/",
          "height": 72
        },
        "outputId": "9bebefe5-cc44-4eb1-8023-ecc0f32d53d0"
      },
      "outputs": [
        {
          "output_type": "execute_result",
          "data": {
            "text/plain": [
              "[<matplotlib.lines.Line2D at 0x7fca10e92690>]"
            ]
          },
          "metadata": {},
          "execution_count": 32
        },
        {
          "output_type": "display_data",
          "data": {
            "image/png": "[encoded data removed]",
            "text/plain": [
              "<Figure size 1080x720 with 1 Axes>"
            ]
          },
          "metadata": {
            "needs_background": "light"
          }
        }
      ],
      "source": [
        "# Call figure() and plot() on the plt\n",
        "plt.figure(figsize=(15,10))\n",
        "plt.plot(y_log.diff())\n",
        "plt.plot(model_fit.predict(), color = 'red')"
      ]
    },
    {
      "cell_type": "markdown",
      "metadata": {
        "id": "YJlYAada_72J"
      },
      "source": [
        "### 3f. Application: Forecasting\n",
        "\n",
        "We've done well: our model fits pretty closely to our existing data. Let's now use it to forecast what's likely to occur in future."
      ]
    },
    {
      "cell_type": "code",
      "execution_count": null,
      "metadata": {
        "scrolled": false,
        "id": "ANaQnyUl_72K",
        "colab": {
          "base_uri": "https://localhost:8080/",
          "height": 623
        },
        "outputId": "41df1274-3181-4f8e-c124-368fea1a394d"
      },
      "outputs": [
        {
          "output_type": "display_data",
          "data": {
            "image/png": "[encoded data removed]",
            "text/plain": [
              "<Figure size 1080x720 with 1 Axes>"
            ]
          },
          "metadata": {
            "needs_background": "light"
          }
        }
      ],
      "source": [
        "# Declare a variable called forecast_period with the amount of months to forecast, and\n",
        "# create a range of future dates that is the length of the periods you've chosen to forecast\n",
        "forecast_period = 24\n",
        "date_range = pd.date_range(y_log.index[-1], periods = forecast_period, \n",
        "              freq='MS').strftime(\"%Y-%m-%d\").tolist()\n",
        "\n",
        "# Convert that range into a dataframe that includes your predictions\n",
        "# First, call DataFrame on pd\n",
        "future_months = pd.DataFrame(date_range, columns = ['Month'])\n",
        "# Let's now convert the 'Month' column to a datetime object with to_datetime \n",
        "future_months['Month'] = pd.to_datetime(future_months['Month'])\n",
        "future_months.set_index('Month', inplace = True)\n",
        "future_months['Prediction'] = forecast[0]\n",
        "\n",
        "# Plot your future predictions\n",
        "# Call figure() on plt\n",
        "plt.figure(figsize=(15,10))\n",
        "plt.plot(y_log)\n",
        "plt.plot(y_log['Nov 1960'].append(future_months['Prediction']))\n",
        "plt.show()"
      ]
    },
    {
      "cell_type": "markdown",
      "metadata": {
        "id": "buLOhQSb_72K"
      },
      "source": [
        "## 4. Evaluating and Concluding\n",
        "\n",
        "Our model captures the centre of a line that's increasing at a remarkable rate. Cowboy Cigarettes sell more cigarettes in the summer, perhaps due to the good weather, disposable income and time off that people enjoy, and the least in the winter, when people might be spending less and enjoying less free time outdoors. \n",
        "\n",
        "Remarkably, our ARIMA model made predictions using just one variable. We can only speculate, however, on the causes of the behaviour predicted by our model. We should also take heed that spikes in data, due to sudden unusual circumstances like wars, are not handled well by ARIMA; and the outbreak of the Vietnam War in the 1960s would likely cause our model some distress.  \n",
        "\n",
        "We could suggest to our employers that, if they are interested in discovering the causes of the cigarette sales trajectory, they execute a regression analysis in addition to the time series one. "
      ]
    }
  ],
  "metadata": {
    "kernelspec": {
      "display_name": "Python 3",
      "language": "python",
      "name": "python3"
    },
    "language_info": {
      "codemirror_mode": {
        "name": "ipython",
        "version": 3
      },
      "file_extension": ".py",
      "mimetype": "text/x-python",
      "name": "python",
      "nbconvert_exporter": "python",
      "pygments_lexer": "ipython3",
      "version": "3.7.3"
    },
    "colab": {
      "name": "Cowboy Cigarettes Case Study - Tier 3.ipynb",
      "provenance": [],
      "collapsed_sections": [
        "3-Bsfdml_72D",
        "gqvM2bRa_72D",
        "ZaXGEh7u_72F",
        "E63gIlAY_72F",
        "yay1kRdQ_72H",
        "ClFBywTg_72H",
        "fcZZsG0-_72I",
        "hbxS8RkP_72J",
        "YJlYAada_72J"
      ],
      "include_colab_link": true
    }
  },
  "nbformat": 4,
  "nbformat_minor": 0
}